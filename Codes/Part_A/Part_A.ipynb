{
  "nbformat": 4,
  "nbformat_minor": 0,
  "metadata": {
    "colab": {
      "provenance": []
    },
    "kernelspec": {
      "name": "python3",
      "display_name": "Python 3"
    },
    "language_info": {
      "name": "python"
    }
  },
  "cells": [
    {
      "cell_type": "code",
      "execution_count": 48,
      "metadata": {
        "id": "f1sMZLQa1Q6w"
      },
      "outputs": [],
      "source": [
        "# Importing the libraries\n",
        "import numpy as np\n",
        "import matplotlib.pyplot as plt\n",
        "import pandas as pd"
      ]
    },
    {
      "cell_type": "code",
      "source": [
        "# Importing the dataset\n",
        "dataset = pd.read_csv('TrainingDataBinary.csv')\n",
        "X = dataset.iloc[:, :-13].values\n",
        "y = dataset.iloc[:, -1].values\n",
        "print(X)\n",
        "print(y)"
      ],
      "metadata": {
        "colab": {
          "base_uri": "https://localhost:8080/"
        },
        "id": "Mtr0fH2i1W4c",
        "outputId": "e9677889-2176-4665-d8cf-e503008ca1f3"
      },
      "execution_count": 49,
      "outputs": [
        {
          "output_type": "stream",
          "name": "stdout",
          "text": [
            "[[ 7.36881020e+01  1.30280711e+05 -4.63007190e+01 ...  8.14132788e+00\n",
            "   2.72100000e-02  0.00000000e+00]\n",
            " [ 7.37339390e+01  1.30305784e+05 -4.62548830e+01 ...  8.16275526e+00\n",
            "   2.66630000e-02  0.00000000e+00]\n",
            " [ 7.40834430e+01  1.30581590e+05 -4.58996490e+01 ...  8.13529228e+00\n",
            "   2.65950000e-02  0.00000000e+00]\n",
            " ...\n",
            " [ 1.16384917e+02  1.31734961e+05 -3.58671600e+00 ...  1.00440535e+01\n",
            "   3.89990000e-02  0.00000000e+00]\n",
            " [ 1.11125164e+02  1.30506370e+05 -8.84646800e+00 ...  7.80294641e+00\n",
            "   8.26580000e-02  0.00000000e+00]\n",
            " [ 1.10878793e+02  1.30481297e+05 -9.09284000e+00 ...  7.80357825e+00\n",
            "   8.03250000e-02  0.00000000e+00]]\n",
            "[0 0 0 ... 0 0 0]\n"
          ]
        }
      ]
    },
    {
      "cell_type": "code",
      "source": [
        "# Splitting the dataset into the Training set and Test set \n",
        "from sklearn.model_selection import train_test_split\n",
        "X_train, X_test, y_train, y_test = train_test_split(X, y, test_size = 0.15, random_state = 0)\n",
        "print(X_train)\n",
        "print(y_train)\n",
        "print(X_test)\n",
        "print(y_test)"
      ],
      "metadata": {
        "colab": {
          "base_uri": "https://localhost:8080/"
        },
        "id": "CebURVyU1W6m",
        "outputId": "0a341a0b-a7cc-452f-edd5-ec6bfccf459b"
      },
      "execution_count": 50,
      "outputs": [
        {
          "output_type": "stream",
          "name": "stdout",
          "text": [
            "[[-1.67762042e+02  1.30381004e+05  7.22843550e+01 ...  7.10767529e+00\n",
            "   9.83100000e-02  0.00000000e+00]\n",
            " [ 7.00269020e+01  1.31258568e+05 -4.99332720e+01 ...  8.47530770e+00\n",
            "   6.79420000e-02  0.00000000e+00]\n",
            " [-1.29981205e+02  1.32336719e+05  1.10053733e+02 ...  1.08975101e+01\n",
            "   9.41900000e-03  0.00000000e+00]\n",
            " ...\n",
            " [-1.43245178e+02  1.31985693e+05  9.67783010e+01 ...  1.18473310e+01\n",
            "   1.35850000e-02  0.00000000e+00]\n",
            " [-2.76337540e+01  1.31409008e+05 -1.47616846e+02 ...  9.12269160e+00\n",
            "   2.20680000e-02  0.00000000e+00]\n",
            " [-1.74459919e+02  1.30681883e+05  6.55807490e+01 ...  7.22021360e+00\n",
            "   9.47530000e-02  0.00000000e+00]]\n",
            "[0 0 0 ... 0 0 0]\n",
            "[[ 1.23902123e+02  1.32361792e+05  3.92476100e+00 ...  1.49121787e+01\n",
            "  -2.44660000e-02  0.00000000e+00]\n",
            " [ 1.41119505e+02  1.30982762e+05  2.11249540e+01 ...  7.70668412e+00\n",
            "   8.89180000e-02  0.00000000e+00]\n",
            " [-1.23157278e+02  1.32186279e+05  1.16849013e+02 ...  1.20703542e+01\n",
            "  -1.01310000e-02  0.00000000e+00]\n",
            " ...\n",
            " [-2.98224530e+01  7.81032361e+04 -1.44310880e+02 ...  1.18007185e+00\n",
            "   1.51556800e+00  0.00000000e+00]\n",
            " [ 7.78477760e+01  1.31409008e+05 -4.21295870e+01 ...  8.79638864e+00\n",
            "   5.76780000e-02  0.00000000e+00]\n",
            " [-6.87549000e-01  1.31484228e+05 -1.20653453e+02 ...  9.14344441e+00\n",
            "   5.14970000e-02  0.00000000e+00]]\n",
            "[0 1 0 1 1 1 1 0 1 0 1 0 1 1 1 0 0 1 1 0 0 1 0 1 0 1 0 1 0 0 1 0 0 0 0 0 0\n",
            " 1 1 0 1 0 0 1 0 1 0 0 0 0 1 0 1 1 1 0 1 0 1 0 0 0 0 1 1 0 1 1 0 0 1 0 1 1\n",
            " 1 0 1 1 0 1 1 1 1 0 1 0 1 0 1 1 0 1 0 1 0 1 0 1 0 0 0 1 1 0 1 0 1 1 0 1 0\n",
            " 1 0 0 1 0 0 0 0 0 1 1 0 1 0 0 1 1 0 0 1 1 0 1 1 0 0 1 0 1 0 1 1 1 0 1 0 0\n",
            " 0 1 0 0 0 1 1 0 0 1 1 0 0 1 0 1 1 1 0 1 0 0 1 0 1 1 1 0 0 1 1 1 1 1 1 1 0\n",
            " 0 0 0 0 1 0 0 0 1 0 1 0 0 1 1 0 1 1 1 1 0 0 0 1 1 0 1 0 0 0 1 0 0 1 1 0 1\n",
            " 0 1 1 0 0 0 0 1 0 0 0 1 1 1 1 1 0 1 0 0 1 1 1 0 0 1 1 1 0 0 0 1 0 0 0 0 1\n",
            " 1 1 1 0 1 1 1 0 1 1 0 1 0 1 0 1 0 0 1 0 0 1 0 0 1 0 0 1 1 0 1 0 0 0 1 0 0\n",
            " 0 0 1 0 0 0 0 0 1 1 1 1 1 1 1 1 1 1 0 0 1 0 0 1 0 1 1 0 1 1 0 0 1 1 0 0 0\n",
            " 0 1 0 1 0 1 0 0 1 0 1 0 1 1 0 1 0 1 0 0 1 1 1 0 1 1 1 1 1 0 0 1 0 1 1 1 0\n",
            " 1 0 1 0 0 1 1 0 1 1 0 1 0 1 0 0 1 1 1 1 1 0 0 0 0 1 0 0 1 1 1 1 1 1 0 0 0\n",
            " 1 1 1 1 1 0 0 1 1 1 1 0 0 0 0 1 1 0 0 0 1 0 0 1 0 1 1 1 0 0 0 1 1 0 0 1 0\n",
            " 1 0 0 1 1 1 1 1 0 1 1 0 0 1 0 1 1 1 1 0 1 0 1 0 1 0 0 1 1 1 0 0 0 1 0 0 0\n",
            " 0 0 0 0 1 1 0 1 1 0 0 1 1 1 1 1 0 0 1 1 1 0 0 0 0 0 0 1 1 0 1 1 0 1 1 0 1\n",
            " 0 0 1 0 1 1 0 0 1 1 1 1 0 0 0 1 1 1 1 1 0 0 0 0 1 0 0 1 0 0 0 0 0 1 0 1 1\n",
            " 0 1 0 0 0 1 0 0 0 0 1 1 1 0 1 0 0 1 1 0 0 1 1 1 1 0 0 1 1 0 0 0 0 0 1 1 1\n",
            " 1 1 1 0 1 0 1 0 0 0 1 0 1 0 0 1 0 1 0 1 1 0 0 0 0 0 0 1 0 0 0 1 1 0 1 0 1\n",
            " 0 1 0 0 1 1 1 0 0 0 0 0 0 1 1 1 1 1 0 0 1 0 0 1 0 1 1 0 0 0 1 0 0 0 0 1 0\n",
            " 0 0 0 0 0 0 1 1 1 1 1 1 0 0 1 1 0 0 0 1 1 1 0 0 1 0 1 0 0 0 1 1 0 0 1 1 0\n",
            " 1 0 1 0 0 0 1 1 1 1 0 1 0 0 1 0 0 1 1 1 0 0 1 1 0 0 1 0 0 1 1 1 1 1 1 0 1\n",
            " 1 0 1 0 1 0 1 1 1 0 0 1 0 1 1 1 0 0 0 0 0 0 0 0 0 1 0 1 1 0 1 1 1 0 1 0 1\n",
            " 1 1 0 1 1 1 0 1 1 0 0 1 0 1 1 1 1 1 0 1 0 0 0 0 1 1 0 1 1 0 0 1 1 1 1 0 1\n",
            " 1 1 1 0 0 1 1 0 1 0 0 1 0 0 1 0 1 0 1 0 0 0 0 1 0 0 0 1 0 0 1 0 0 1 1 1 1\n",
            " 0 0 1 1 1 0 1 0 0 0 1 1 0 0 1 1 1 1 1 0 0 1 0 1 0 1 0 1 1 1 0 0 0 0 0 1 1\n",
            " 0 1 0 1 1 1 1 0 0 1 0 0]\n"
          ]
        }
      ]
    },
    {
      "cell_type": "code",
      "source": [
        "# Feature Scaling\n",
        "from sklearn.preprocessing import StandardScaler\n",
        "sc = StandardScaler()\n",
        "X_train = sc.fit_transform(X_train)\n",
        "X_test = sc.transform(X_test)\n",
        "print(X_train)\n",
        "print(X_test)\n"
      ],
      "metadata": {
        "colab": {
          "base_uri": "https://localhost:8080/"
        },
        "id": "s12twx701W94",
        "outputId": "a45baabe-4ed0-41ce-d98a-bbfcbe174d4a"
      },
      "execution_count": 51,
      "outputs": [
        {
          "output_type": "stream",
          "name": "stdout",
          "text": [
            "[[-1.54254121e+00 -1.58800321e-01  7.37811172e-01 ... -5.80165459e-01\n",
            "   4.92401281e-01 -3.71172443e-02]\n",
            " [ 8.30625596e-01 -5.65007024e-03 -3.95134701e-01 ... -3.70313383e-01\n",
            "   3.06402805e-01 -3.71172443e-02]\n",
            " [-1.16548319e+00  1.82505940e-01  1.08792974e+00 ...  1.35389184e-03\n",
            "  -5.20399248e-02 -3.71172443e-02]\n",
            " ...\n",
            " [-1.29785949e+00  1.21245840e-01  9.64867741e-01 ...  1.47096179e-01\n",
            "  -2.65239326e-02 -3.71172443e-02]\n",
            " [-1.44041364e-01  2.06042535e-02 -1.30065222e+00 ... -2.70977587e-01\n",
            "   2.54328994e-02 -3.71172443e-02]\n",
            " [-1.60938696e+00 -1.06291674e-01  6.75669377e-01 ... -5.62897371e-01\n",
            "   4.70615303e-01 -3.71172443e-02]]\n",
            "[[ 1.36830781  0.18688165  0.10412418 ...  0.61737215 -0.25957939\n",
            "  -0.03711724]\n",
            " [ 1.54013968 -0.05378301  0.26356835 ... -0.48825242  0.43487699\n",
            "  -0.03711724]\n",
            " [-1.09737945  0.1562516   1.15092135 ...  0.18131729 -0.17178012\n",
            "  -0.03711724]\n",
            " ...\n",
            " [-0.16588488 -9.28217904 -1.27000622 ... -1.48970802  9.17284874\n",
            "  -0.03711724]\n",
            " [ 0.90867901  0.02060425 -0.32279528 ... -0.32104612  0.24353767\n",
            "  -0.03711724]\n",
            " [ 0.12488552  0.03373142 -1.05070411 ... -0.26779324  0.20568017\n",
            "  -0.03711724]]\n"
          ]
        }
      ]
    },
    {
      "cell_type": "code",
      "source": [
        "# Training the Random Forest Classification model on the Training set\n",
        "from sklearn.ensemble import RandomForestClassifier\n",
        "classifier = RandomForestClassifier(n_estimators= 100,criterion = 'entropy', random_state = 0)\n",
        "classifier.fit(X_train, y_train)"
      ],
      "metadata": {
        "colab": {
          "base_uri": "https://localhost:8080/",
          "height": 74
        },
        "id": "b6TRUtGm1W_Y",
        "outputId": "2dde5ceb-6230-4e32-c5b8-cf3fe47bfa7f"
      },
      "execution_count": 52,
      "outputs": [
        {
          "output_type": "execute_result",
          "data": {
            "text/plain": [
              "RandomForestClassifier(criterion='entropy', random_state=0)"
            ],
            "text/html": [
              "<style>#sk-container-id-5 {color: black;background-color: white;}#sk-container-id-5 pre{padding: 0;}#sk-container-id-5 div.sk-toggleable {background-color: white;}#sk-container-id-5 label.sk-toggleable__label {cursor: pointer;display: block;width: 100%;margin-bottom: 0;padding: 0.3em;box-sizing: border-box;text-align: center;}#sk-container-id-5 label.sk-toggleable__label-arrow:before {content: \"▸\";float: left;margin-right: 0.25em;color: #696969;}#sk-container-id-5 label.sk-toggleable__label-arrow:hover:before {color: black;}#sk-container-id-5 div.sk-estimator:hover label.sk-toggleable__label-arrow:before {color: black;}#sk-container-id-5 div.sk-toggleable__content {max-height: 0;max-width: 0;overflow: hidden;text-align: left;background-color: #f0f8ff;}#sk-container-id-5 div.sk-toggleable__content pre {margin: 0.2em;color: black;border-radius: 0.25em;background-color: #f0f8ff;}#sk-container-id-5 input.sk-toggleable__control:checked~div.sk-toggleable__content {max-height: 200px;max-width: 100%;overflow: auto;}#sk-container-id-5 input.sk-toggleable__control:checked~label.sk-toggleable__label-arrow:before {content: \"▾\";}#sk-container-id-5 div.sk-estimator input.sk-toggleable__control:checked~label.sk-toggleable__label {background-color: #d4ebff;}#sk-container-id-5 div.sk-label input.sk-toggleable__control:checked~label.sk-toggleable__label {background-color: #d4ebff;}#sk-container-id-5 input.sk-hidden--visually {border: 0;clip: rect(1px 1px 1px 1px);clip: rect(1px, 1px, 1px, 1px);height: 1px;margin: -1px;overflow: hidden;padding: 0;position: absolute;width: 1px;}#sk-container-id-5 div.sk-estimator {font-family: monospace;background-color: #f0f8ff;border: 1px dotted black;border-radius: 0.25em;box-sizing: border-box;margin-bottom: 0.5em;}#sk-container-id-5 div.sk-estimator:hover {background-color: #d4ebff;}#sk-container-id-5 div.sk-parallel-item::after {content: \"\";width: 100%;border-bottom: 1px solid gray;flex-grow: 1;}#sk-container-id-5 div.sk-label:hover label.sk-toggleable__label {background-color: #d4ebff;}#sk-container-id-5 div.sk-serial::before {content: \"\";position: absolute;border-left: 1px solid gray;box-sizing: border-box;top: 0;bottom: 0;left: 50%;z-index: 0;}#sk-container-id-5 div.sk-serial {display: flex;flex-direction: column;align-items: center;background-color: white;padding-right: 0.2em;padding-left: 0.2em;position: relative;}#sk-container-id-5 div.sk-item {position: relative;z-index: 1;}#sk-container-id-5 div.sk-parallel {display: flex;align-items: stretch;justify-content: center;background-color: white;position: relative;}#sk-container-id-5 div.sk-item::before, #sk-container-id-5 div.sk-parallel-item::before {content: \"\";position: absolute;border-left: 1px solid gray;box-sizing: border-box;top: 0;bottom: 0;left: 50%;z-index: -1;}#sk-container-id-5 div.sk-parallel-item {display: flex;flex-direction: column;z-index: 1;position: relative;background-color: white;}#sk-container-id-5 div.sk-parallel-item:first-child::after {align-self: flex-end;width: 50%;}#sk-container-id-5 div.sk-parallel-item:last-child::after {align-self: flex-start;width: 50%;}#sk-container-id-5 div.sk-parallel-item:only-child::after {width: 0;}#sk-container-id-5 div.sk-dashed-wrapped {border: 1px dashed gray;margin: 0 0.4em 0.5em 0.4em;box-sizing: border-box;padding-bottom: 0.4em;background-color: white;}#sk-container-id-5 div.sk-label label {font-family: monospace;font-weight: bold;display: inline-block;line-height: 1.2em;}#sk-container-id-5 div.sk-label-container {text-align: center;}#sk-container-id-5 div.sk-container {/* jupyter's `normalize.less` sets `[hidden] { display: none; }` but bootstrap.min.css set `[hidden] { display: none !important; }` so we also need the `!important` here to be able to override the default hidden behavior on the sphinx rendered scikit-learn.org. See: https://github.com/scikit-learn/scikit-learn/issues/21755 */display: inline-block !important;position: relative;}#sk-container-id-5 div.sk-text-repr-fallback {display: none;}</style><div id=\"sk-container-id-5\" class=\"sk-top-container\"><div class=\"sk-text-repr-fallback\"><pre>RandomForestClassifier(criterion=&#x27;entropy&#x27;, random_state=0)</pre><b>In a Jupyter environment, please rerun this cell to show the HTML representation or trust the notebook. <br />On GitHub, the HTML representation is unable to render, please try loading this page with nbviewer.org.</b></div><div class=\"sk-container\" hidden><div class=\"sk-item\"><div class=\"sk-estimator sk-toggleable\"><input class=\"sk-toggleable__control sk-hidden--visually\" id=\"sk-estimator-id-5\" type=\"checkbox\" checked><label for=\"sk-estimator-id-5\" class=\"sk-toggleable__label sk-toggleable__label-arrow\">RandomForestClassifier</label><div class=\"sk-toggleable__content\"><pre>RandomForestClassifier(criterion=&#x27;entropy&#x27;, random_state=0)</pre></div></div></div></div></div>"
            ]
          },
          "metadata": {},
          "execution_count": 52
        }
      ]
    },
    {
      "cell_type": "code",
      "source": [
        "# Training accuracy and F1 Score to check the accuracy of model on training set\n",
        "from sklearn.metrics import f1_score, accuracy_score\n",
        "y_pred_training=classifier.predict(X_train)\n",
        "accuracyscore=accuracy_score(y_train, y_pred_training)\n",
        "print('Accuracy Score on training set is '+ str(accuracyscore))\n",
        "print('F1 score of Training set is ' + str(f1_score(y_train, y_pred_training, average='macro')))\n"
      ],
      "metadata": {
        "colab": {
          "base_uri": "https://localhost:8080/"
        },
        "id": "EEz_QRCj15-t",
        "outputId": "e51f6f24-e6da-4dbe-9ec6-1e2c7e8775ed"
      },
      "execution_count": 53,
      "outputs": [
        {
          "output_type": "stream",
          "name": "stdout",
          "text": [
            "Accuracy Score on training set is 1.0\n",
            "F1 score of Training set is 1.0\n"
          ]
        }
      ]
    },
    {
      "cell_type": "code",
      "source": [
        "# Predicting the Test set results\n",
        "y_pred = classifier.predict(X_test)\n",
        "print(np.concatenate((y_pred.reshape(len(y_pred),1), y_test.reshape(len(y_test),1)),1))\n",
        "\n",
        "# Simple confusion Matrix and accuracy on test set\n",
        "from sklearn.metrics import confusion_matrix, accuracy_score\n",
        "cm = confusion_matrix(y_test, y_pred)\n",
        "print(cm)\n",
        "AS_test = accuracy_score(y_test, y_pred)\n",
        "print('Accuracy Score on testing set is '+ str(AS_test))\n",
        "\n",
        "#calculating the F1 score of test set \n",
        "from sklearn.metrics import f1_score\n",
        "print('F1 score of Testing set is ' + str(f1_score(y_test, y_pred, average='macro')))\n",
        "\n",
        "#Confusion Matrix Diagram\n",
        "from sklearn.metrics import confusion_matrix, ConfusionMatrixDisplay\n",
        "cm = confusion_matrix(y_test, y_pred)\n",
        "disp = ConfusionMatrixDisplay(confusion_matrix=cm, display_labels=[0, 1])\n",
        "disp.plot()\n",
        "plt.show()\n"
      ],
      "metadata": {
        "colab": {
          "base_uri": "https://localhost:8080/",
          "height": 640
        },
        "id": "7i4d3Szb1XB_",
        "outputId": "a2ecdf18-54c4-47b6-aa96-e018a066c379"
      },
      "execution_count": 54,
      "outputs": [
        {
          "output_type": "stream",
          "name": "stdout",
          "text": [
            "[[0 0]\n",
            " [1 1]\n",
            " [0 0]\n",
            " ...\n",
            " [1 1]\n",
            " [0 0]\n",
            " [0 0]]\n",
            "[[448   3]\n",
            " [  6 443]]\n",
            "Accuracy Score on testing set is 0.99\n",
            "F1 score of Testing set is 0.9899996913484985\n"
          ]
        },
        {
          "output_type": "display_data",
          "data": {
            "text/plain": [
              "<Figure size 640x480 with 2 Axes>"
            ],
            "image/png": "[encoded data removed]"
          },
          "metadata": {}
        }
      ]
    },
    {
      "cell_type": "code",
      "source": [
        "#Predicting the results for actual testing data (TestingDataBinary.CSV) \n",
        "new_data = pd.read_csv('TestingDataBinary.csv',header=None)\n",
        "new_data1 = new_data.iloc[:, :-12].values\n",
        "new_data1 = sc.transform(new_data1)\n",
        "print(new_data1)\n",
        "predictions = classifier.predict(new_data1)\n",
        "print(predictions)\n",
        "new_data['predictions'] = predictions\n",
        "new_data.to_csv('TestingResultsBinary.csv', index=False, header=False) # creating a new file with input parameters and predicted results\n",
        "\n"
      ],
      "metadata": {
        "colab": {
          "base_uri": "https://localhost:8080/"
        },
        "id": "2UMbwJ3X1XJe",
        "outputId": "e53c5402-4050-4178-b7cb-019ab340df8a"
      },
      "execution_count": 55,
      "outputs": [
        {
          "output_type": "stream",
          "name": "stdout",
          "text": [
            "[[ 0.25268725  0.09061579 -0.93199734 ... -0.104965    0.09437998\n",
            "  -0.03711724]\n",
            " [ 0.25200107  0.09061579 -0.9326878  ... -0.10709066  0.08889214\n",
            "  -0.03711724]\n",
            " [ 0.25194389  0.09061579 -0.93274091 ... -0.10624442  0.09396961\n",
            "  -0.03711724]\n",
            " ...\n",
            " [-1.58497025  0.2175117   0.69834848 ...  0.57809781 -0.22618075\n",
            "  -0.03711724]\n",
            " [-1.58559925  0.1956331   0.69781735 ...  0.57624584 -0.22883892\n",
            "  -0.03711724]\n",
            " [-1.58651416  0.18688165  0.69691443 ...  0.57469799 -0.22078479\n",
            "  -0.03711724]]\n",
            "[1 1 1 1 1 1 1 1 1 1 1 1 1 1 1 1 1 1 1 1 1 1 1 1 1 1 1 1 1 1 1 1 1 1 1 1 1\n",
            " 1 1 1 1 1 1 1 1 1 1 1 1 1 0 0 0 0 0 0 0 0 0 0 0 0 0 0 0 0 0 0 1 1 1 1 1 1\n",
            " 1 0 0 0 0 0 0 0 0 0 0 0 0 0 0 0 0 0 0 0 0 0 0 0 0 0]\n"
          ]
        }
      ]
    },
    {
      "cell_type": "code",
      "source": [],
      "metadata": {
        "id": "PEsjty5h1XL4"
      },
      "execution_count": 55,
      "outputs": []
    }
  ]
}