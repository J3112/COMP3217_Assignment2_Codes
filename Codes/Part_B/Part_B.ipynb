{
  "nbformat": 4,
  "nbformat_minor": 0,
  "metadata": {
    "colab": {
      "provenance": []
    },
    "kernelspec": {
      "name": "python3",
      "display_name": "Python 3"
    },
    "language_info": {
      "name": "python"
    }
  },
  "cells": [
    {
      "cell_type": "code",
      "execution_count": 1,
      "metadata": {
        "id": "r0et6frvejIJ"
      },
      "outputs": [],
      "source": [
        "#importing libraries \n",
        "import numpy as np\n",
        "import matplotlib.pyplot as plt\n",
        "import pandas as pd"
      ]
    },
    {
      "cell_type": "code",
      "source": [
        "#loading the csv to pandas dataframe\n",
        "dataset = pd.read_csv('TrainingDataMulti.csv')\n",
        "X = dataset.iloc[:, :-13].values\n",
        "y = dataset.iloc[:, -1].values\n",
        "print(X)\n",
        "print(y)"
      ],
      "metadata": {
        "colab": {
          "base_uri": "https://localhost:8080/"
        },
        "id": "tdDwfeE_fcvr",
        "outputId": "1647e010-b27f-4f03-990e-681f58c1c702"
      },
      "execution_count": 2,
      "outputs": [
        {
          "output_type": "stream",
          "name": "stdout",
          "text": [
            "[[ 7.36881020e+01  1.30280711e+05 -4.63007190e+01 ...  8.14132788e+00\n",
            "   2.72100000e-02  0.00000000e+00]\n",
            " [ 7.37339390e+01  1.30305784e+05 -4.62548830e+01 ...  8.16275526e+00\n",
            "   2.66630000e-02  0.00000000e+00]\n",
            " [ 7.40834430e+01  1.30581590e+05 -4.58996490e+01 ...  8.13529228e+00\n",
            "   2.65950000e-02  0.00000000e+00]\n",
            " ...\n",
            " [ 1.16384917e+02  1.31734961e+05 -3.58671600e+00 ...  1.00440535e+01\n",
            "   3.89990000e-02  0.00000000e+00]\n",
            " [ 1.11125164e+02  1.30506370e+05 -8.84646800e+00 ...  7.80294641e+00\n",
            "   8.26580000e-02  0.00000000e+00]\n",
            " [ 1.10878793e+02  1.30481297e+05 -9.09284000e+00 ...  7.80357825e+00\n",
            "   8.03250000e-02  0.00000000e+00]]\n",
            "[0 0 0 ... 0 0 0]\n"
          ]
        }
      ]
    },
    {
      "cell_type": "code",
      "source": [
        "#Train and Test Split\n",
        "from sklearn.model_selection import train_test_split\n",
        "X_train, X_test, y_train, y_test = train_test_split(X, y, test_size = 0.15, random_state = 0)\n",
        "print(X_train)\n",
        "print(y_train)\n",
        "print(X_test)\n",
        "print(y_test)"
      ],
      "metadata": {
        "colab": {
          "base_uri": "https://localhost:8080/"
        },
        "id": "1e0Yn0-effgQ",
        "outputId": "0c78c3b1-2d1d-4be2-c62f-37bd6b442020"
      },
      "execution_count": 3,
      "outputs": [
        {
          "output_type": "stream",
          "name": "stdout",
          "text": [
            "[[-1.51587444e+02  1.32637598e+05  8.84532240e+01 ...  1.37355200e+01\n",
            "  -9.62600000e-03  0.00000000e+00]\n",
            " [ 7.00269020e+01  1.31258568e+05 -4.99332720e+01 ...  8.47530770e+00\n",
            "   6.79420000e-02  0.00000000e+00]\n",
            " [ 1.56818550e+01  1.31860327e+05 -1.04306967e+02 ...  1.39098094e+01\n",
            "  -1.30386000e-01  0.00000000e+00]\n",
            " ...\n",
            " [-8.07985080e+01  1.32085986e+05  1.59230701e+02 ...  1.20566200e+01\n",
            "  -1.69280000e-02  0.00000000e+00]\n",
            " [-5.83041850e+01  1.31835254e+05 -1.78275818e+02 ...  1.06870559e+01\n",
            "   2.80380000e-02  0.00000000e+00]\n",
            " [ 1.79410274e+02  1.30556517e+05  5.94329120e+01 ...  7.46129035e+00\n",
            "   8.03500000e-02  0.00000000e+00]]\n",
            "[0 0 1 ... 2 0 0]\n",
            "[[ 1.32674107e+02  1.31509301e+05  1.26967450e+01 ...  9.13422407e+00\n",
            "   5.42710000e-02  0.00000000e+00]\n",
            " [-1.31041177e+02  1.30957689e+05  1.08965114e+02 ...  7.93985597e+00\n",
            "  -6.47100000e-03  0.00000000e+00]\n",
            " [-1.23157278e+02  1.32186279e+05  1.16849013e+02 ...  1.20703542e+01\n",
            "  -1.01310000e-02  0.00000000e+00]\n",
            " ...\n",
            " [-1.67762042e+02  1.30381004e+05  7.22843550e+01 ...  7.10767529e+00\n",
            "   9.83100000e-02  0.00000000e+00]\n",
            " [ 1.22716101e+02  1.32236426e+05  2.75019700e+00 ...  1.40306595e+01\n",
            "  -4.73810000e-02  0.00000000e+00]\n",
            " [ 9.52542330e+01  1.31785107e+05 -2.47231290e+01 ...  1.29135153e+01\n",
            "  -5.86960000e-02  0.00000000e+00]]\n",
            "[0 1 0 2 0 2 0 0 0 0 0 0 0 1 2 1 0 0 2 0 0 0 0 2 0 0 0 2 0 2 2 1 0 0 1 1 0\n",
            " 2 2 0 2 0 0 1 0 2 0 1 0 0 2 0 1 2 2 0 2 0 0 0 0 2 0 2 1 0 2 0 0 0 0 1 0 2\n",
            " 2 0 0 1 0 0 1 2 2 0 2 0 1 0 1 0 2 0 0 0 0 2 0 0 0 2 0 2 1 0 2 0 1 1 0 1 0\n",
            " 2 0 0 0 0 0 0 0 0 1 1 1 2 0 0 0 2 0 0 0 0 0 2 0 0 0 2 1 1 1 2 0 1 0 2 0 0\n",
            " 0 0 0 0 0 1 2 2 0 1 0 0 2 0 0 2 1 0 2 1 1 0 1 0 2 2 1 0 0 2 0 2 0 0 0 1 0\n",
            " 0 0 0 0 2 0 0 2 0 2 1 0 0 1 2 0 1 0 2 2 0 2 1 1 2 0 1 0 0 0 1 0 0 0 1 0 1\n",
            " 0 2 1 1 0 2 0 1 2 1 0 0 2 1 2 2 0 0 0 0 1 1 0 2 0 0 0 1 0 0 0 1 0 0 1 2 2\n",
            " 1 1 2 1 2 0 1 1 1 1 0 2 0 2 0 2 0 0 1 0 0 2 0 0 2 0 0 1 1 0 0 1 0 2 0 0 0\n",
            " 1 2 1 0 2 0 0 0 1 0 1 1 0 1 2 2 2 1 0 0 1 2 0 0 0 0 2 0 2 0 1 2 0 0 0 0 1\n",
            " 1 2 0 0 0 0 0 0 1 0 2 0 1 0 2 0 0 1 0 0 1 2 2 0 0 2 0 1 2 1 0 1 1 2 2 2 0\n",
            " 0 0 1 2 0 2 2 0 1 1 0 1 0 0 0 0 2 0 0 1 0 0 0 0 0 0 0 0 2 2 0 2 0 2 0 0 2\n",
            " 0 2 0 2 2 2 0 1 1 1 1 2 0 2 0 0 1 0 0 0 0 2 0 2 0 2 1 1 0 0 0 2 0 0 0 1 0\n",
            " 1 2 1 0 0 2 2 0 1 2 0 0 0 1 0 0 2 1 2 0 1 0 2 0 2 0 0 1 2 2 0 0 0 1 0 0 0\n",
            " 0 0 1 0 2 1 0 2 2 0 0 2 0 0 2 2 0 0 2 0 1 0 0 0 0 0 0 2 1 0 2 0 0 2 2 0 1\n",
            " 0 0 1 0 0 2 0 2 2 2 1 0 0 0 1 1 1 2 2 0 0 0 0 0 0 2 0 1 0 0 0 1 0 2 0 0 1\n",
            " 0 2 2 2 0 2 2 0 1 0 1 2 1 0 0 0 1 1 1 0 0 2 0 2 0 0 1 0 1 2 0 1 1 0 0 0 1\n",
            " 1 0 0 0 0 0 1 0 0 0 2 0 1 0 0 2 2 0 2 1 2 1 0 0 0 2 0 1 0 0 2 2 2 0 1 0 2\n",
            " 0 2 0 0 2 0 1 0 0 0 0 1 2 2 2 2 1 1 0 0 0 0 0 1 2 2 2 0 0 0 0 0 2 2 0 0 1\n",
            " 0 0 0 0 0 0 0 1 1 2 2 0 0 0 1 1 0 0 0 2 1 1 0 0 2 2 1 0 0 0 1 1 0 1 2 0 2\n",
            " 1 0 0 0 0 2 1 1 1 1 0 2 0 0 2 1 1 1 1 2 0 0 2 1 2 0 1 0 0 1 2 2 2 2 0 0 1\n",
            " 1 2 0 0 2 0 0 1 2 0 0 2 0 2 2 2 0 2 2 0 2 1 0 0 0 1 0 0 0 0 2 1 0 2 1 0 2\n",
            " 0 1 0 2 2 2 0 0 2 1 2 0 1 2 1 0 2 0 2 0 2 0 1 1 0 1 2 1 2 1 1 2 0 1 2 0 2\n",
            " 2 0 2 0 0 2 2 0 1 0 0 1 0 0 0 0 1 2 0 1 0 0 0 2 0 0 2 0 0 0 2 0 0 2 0 2 0\n",
            " 0 0 1 0 0 0 1 0 0 1 1 1 0 0 2 1 0 0 1 0 0 0 0 1 0 1 0 1 2 2 0 0 0 1 1 1 1\n",
            " 0 1 0 0 1 0 1 0 1 0 0 1]\n"
          ]
        }
      ]
    },
    {
      "cell_type": "code",
      "source": [
        "# Feature Scaling\n",
        "from sklearn.preprocessing import StandardScaler\n",
        "sc = StandardScaler()\n",
        "X_train = sc.fit_transform(X_train)\n",
        "X_test = sc.transform(X_test)\n",
        "print(X_train)\n",
        "print(X_test)"
      ],
      "metadata": {
        "colab": {
          "base_uri": "https://localhost:8080/"
        },
        "id": "B8P543QvftrU",
        "outputId": "789498a7-2a13-4aa6-d902-bf80384cc01b"
      },
      "execution_count": 4,
      "outputs": [
        {
          "output_type": "stream",
          "name": "stdout",
          "text": [
            "[[-1.35473367  0.27805303  0.87754696 ...  0.43031117 -0.15518432\n",
            "   0.        ]\n",
            " [ 0.83633256 -0.048108   -0.41379045 ... -0.34569612  0.36032712\n",
            "   0.        ]\n",
            " [ 0.29903161  0.0942168  -0.92117222 ...  0.45602303 -0.95774675\n",
            "   0.        ]\n",
            " ...\n",
            " [-0.65485458  0.14758862  1.53799871 ...  0.18263322 -0.2037129\n",
            "   0.        ]\n",
            " [-0.43245674  0.08828661 -1.61140391 ... -0.0194103   0.09512796\n",
            "   0.        ]\n",
            " [ 1.91778877 -0.21415363  0.60674731 ... -0.49528797  0.44278981\n",
            "   0.        ]]\n",
            "[[ 1.45571563  0.01119401  0.17063423 ... -0.24849018  0.26947062\n",
            "   0.        ]\n",
            " [-1.15159596 -0.11927043  1.06895126 ... -0.42468808 -0.13421642\n",
            "   0.        ]\n",
            " [-1.07364909  0.17130941  1.14251894 ...  0.18465934 -0.15854052\n",
            "   0.        ]\n",
            " ...\n",
            " [-1.51464938 -0.25566504  0.72666905 ... -0.54745466  0.56215071\n",
            "   0.        ]\n",
            " [ 1.35726239  0.18316982  0.07781918 ...  0.47385131 -0.40610139\n",
            "   0.        ]\n",
            " [ 1.08575122  0.0764262  -0.17854495 ...  0.30904579 -0.48130008\n",
            "   0.        ]]\n"
          ]
        }
      ]
    },
    {
      "cell_type": "code",
      "source": [
        "# Check all the models from scikit learn and check the accuracy on the given dataset to check performance of each model on given dataset  \n",
        "from sklearn.metrics import accuracy_score\n",
        "from sklearn.utils import all_estimators\n",
        "\n",
        "\n",
        "\n",
        "# Get a list of all available models\n",
        "all_models = all_estimators(type_filter='classifier')\n",
        "\n",
        "best_model = None\n",
        "best_accuracy = 0\n",
        "\n",
        "# Iterate over all available models and evaluate their performance\n",
        "for name, ModelClass in all_models:\n",
        "    try:\n",
        "        model = ModelClass()\n",
        "        model.fit(X_train, y_train)\n",
        "        y_pred = model.predict(X_test)\n",
        "        accuracy = accuracy_score(y_test, y_pred)\n",
        "\n",
        "        print(f\"Model: {name}\")\n",
        "        print(f\"Accuracy: {accuracy}\")\n",
        "        print()\n",
        "\n",
        "        # Update the best model if the current model performs better\n",
        "        if accuracy > best_accuracy:\n",
        "            best_model = model\n",
        "            best_accuracy = accuracy\n",
        "    except Exception as e:\n",
        "        print(f\"Error evaluating {name}: {str(e)}\")\n",
        "        print()\n",
        "\n",
        "# Use the best model for predictions\n",
        "y_pred = best_model.predict(X_test)\n",
        "final_accuracy = accuracy_score(y_test, y_pred)\n",
        "print(\"Best Model:\")\n",
        "print(best_model)\n",
        "print(f\"Final Accuracy: {final_accuracy}\")"
      ],
      "metadata": {
        "id": "XuZYSZuMk6R6",
        "colab": {
          "base_uri": "https://localhost:8080/"
        },
        "outputId": "e69f619e-85ec-42f1-a14b-d2bd5e99428c"
      },
      "execution_count": 5,
      "outputs": [
        {
          "output_type": "stream",
          "name": "stdout",
          "text": [
            "Model: AdaBoostClassifier\n",
            "Accuracy: 0.7244444444444444\n",
            "\n",
            "Model: BaggingClassifier\n",
            "Accuracy: 0.9488888888888889\n",
            "\n",
            "Model: BernoulliNB\n",
            "Accuracy: 0.5977777777777777\n",
            "\n"
          ]
        },
        {
          "output_type": "stream",
          "name": "stderr",
          "text": [
            "/usr/local/lib/python3.10/dist-packages/sklearn/svm/_base.py:1244: ConvergenceWarning: Liblinear failed to converge, increase the number of iterations.\n",
            "  warnings.warn(\n",
            "/usr/local/lib/python3.10/dist-packages/sklearn/svm/_base.py:1244: ConvergenceWarning: Liblinear failed to converge, increase the number of iterations.\n",
            "  warnings.warn(\n",
            "/usr/local/lib/python3.10/dist-packages/sklearn/svm/_base.py:1244: ConvergenceWarning: Liblinear failed to converge, increase the number of iterations.\n",
            "  warnings.warn(\n",
            "/usr/local/lib/python3.10/dist-packages/sklearn/svm/_base.py:1244: ConvergenceWarning: Liblinear failed to converge, increase the number of iterations.\n",
            "  warnings.warn(\n",
            "/usr/local/lib/python3.10/dist-packages/sklearn/svm/_base.py:1244: ConvergenceWarning: Liblinear failed to converge, increase the number of iterations.\n",
            "  warnings.warn(\n"
          ]
        },
        {
          "output_type": "stream",
          "name": "stdout",
          "text": [
            "Model: CalibratedClassifierCV\n",
            "Accuracy: 0.7233333333333334\n",
            "\n",
            "Error evaluating CategoricalNB: Negative values in data passed to CategoricalNB (input X)\n",
            "\n",
            "Error evaluating ClassifierChain: _BaseChain.__init__() missing 1 required positional argument: 'base_estimator'\n",
            "\n",
            "Error evaluating ComplementNB: Negative values in data passed to ComplementNB (input X)\n",
            "\n",
            "Model: DecisionTreeClassifier\n",
            "Accuracy: 0.9155555555555556\n",
            "\n",
            "Model: DummyClassifier\n",
            "Accuracy: 0.5244444444444445\n",
            "\n",
            "Model: ExtraTreeClassifier\n",
            "Accuracy: 0.9255555555555556\n",
            "\n",
            "Model: ExtraTreesClassifier\n",
            "Accuracy: 0.9777777777777777\n",
            "\n",
            "Model: GaussianNB\n",
            "Accuracy: 0.5355555555555556\n",
            "\n",
            "Model: GaussianProcessClassifier\n",
            "Accuracy: 0.8711111111111111\n",
            "\n",
            "Model: GradientBoostingClassifier\n",
            "Accuracy: 0.8733333333333333\n",
            "\n",
            "Model: HistGradientBoostingClassifier\n",
            "Accuracy: 0.9666666666666667\n",
            "\n",
            "Model: KNeighborsClassifier\n",
            "Accuracy: 0.8922222222222222\n",
            "\n"
          ]
        },
        {
          "output_type": "stream",
          "name": "stderr",
          "text": [
            "/usr/local/lib/python3.10/dist-packages/sklearn/semi_supervised/_label_propagation.py:231: RuntimeWarning: invalid value encountered in true_divide\n",
            "  probabilities /= normalizer\n"
          ]
        },
        {
          "output_type": "stream",
          "name": "stdout",
          "text": [
            "Model: LabelPropagation\n",
            "Accuracy: 0.9355555555555556\n",
            "\n"
          ]
        },
        {
          "output_type": "stream",
          "name": "stderr",
          "text": [
            "/usr/local/lib/python3.10/dist-packages/sklearn/semi_supervised/_label_propagation.py:231: RuntimeWarning: invalid value encountered in true_divide\n",
            "  probabilities /= normalizer\n"
          ]
        },
        {
          "output_type": "stream",
          "name": "stdout",
          "text": [
            "Model: LabelSpreading\n",
            "Accuracy: 0.9344444444444444\n",
            "\n",
            "Model: LinearDiscriminantAnalysis\n",
            "Accuracy: 0.7166666666666667\n",
            "\n"
          ]
        },
        {
          "output_type": "stream",
          "name": "stderr",
          "text": [
            "/usr/local/lib/python3.10/dist-packages/sklearn/svm/_base.py:1244: ConvergenceWarning: Liblinear failed to converge, increase the number of iterations.\n",
            "  warnings.warn(\n"
          ]
        },
        {
          "output_type": "stream",
          "name": "stdout",
          "text": [
            "Model: LinearSVC\n",
            "Accuracy: 0.7366666666666667\n",
            "\n"
          ]
        },
        {
          "output_type": "stream",
          "name": "stderr",
          "text": [
            "/usr/local/lib/python3.10/dist-packages/sklearn/linear_model/_logistic.py:458: ConvergenceWarning: lbfgs failed to converge (status=1):\n",
            "STOP: TOTAL NO. of ITERATIONS REACHED LIMIT.\n",
            "\n",
            "Increase the number of iterations (max_iter) or scale the data as shown in:\n",
            "    https://scikit-learn.org/stable/modules/preprocessing.html\n",
            "Please also refer to the documentation for alternative solver options:\n",
            "    https://scikit-learn.org/stable/modules/linear_model.html#logistic-regression\n",
            "  n_iter_i = _check_optimize_result(\n"
          ]
        },
        {
          "output_type": "stream",
          "name": "stdout",
          "text": [
            "Model: LogisticRegression\n",
            "Accuracy: 0.7288888888888889\n",
            "\n"
          ]
        },
        {
          "output_type": "stream",
          "name": "stderr",
          "text": [
            "/usr/local/lib/python3.10/dist-packages/sklearn/linear_model/_logistic.py:458: ConvergenceWarning: lbfgs failed to converge (status=1):\n",
            "STOP: TOTAL NO. of ITERATIONS REACHED LIMIT.\n",
            "\n",
            "Increase the number of iterations (max_iter) or scale the data as shown in:\n",
            "    https://scikit-learn.org/stable/modules/preprocessing.html\n",
            "Please also refer to the documentation for alternative solver options:\n",
            "    https://scikit-learn.org/stable/modules/linear_model.html#logistic-regression\n",
            "  n_iter_i = _check_optimize_result(\n",
            "/usr/local/lib/python3.10/dist-packages/sklearn/linear_model/_logistic.py:458: ConvergenceWarning: lbfgs failed to converge (status=1):\n",
            "STOP: TOTAL NO. of ITERATIONS REACHED LIMIT.\n",
            "\n",
            "Increase the number of iterations (max_iter) or scale the data as shown in:\n",
            "    https://scikit-learn.org/stable/modules/preprocessing.html\n",
            "Please also refer to the documentation for alternative solver options:\n",
            "    https://scikit-learn.org/stable/modules/linear_model.html#logistic-regression\n",
            "  n_iter_i = _check_optimize_result(\n",
            "/usr/local/lib/python3.10/dist-packages/sklearn/linear_model/_logistic.py:458: ConvergenceWarning: lbfgs failed to converge (status=1):\n",
            "STOP: TOTAL NO. of ITERATIONS REACHED LIMIT.\n",
            "\n",
            "Increase the number of iterations (max_iter) or scale the data as shown in:\n",
            "    https://scikit-learn.org/stable/modules/preprocessing.html\n",
            "Please also refer to the documentation for alternative solver options:\n",
            "    https://scikit-learn.org/stable/modules/linear_model.html#logistic-regression\n",
            "  n_iter_i = _check_optimize_result(\n",
            "/usr/local/lib/python3.10/dist-packages/sklearn/linear_model/_logistic.py:458: ConvergenceWarning: lbfgs failed to converge (status=1):\n",
            "STOP: TOTAL NO. of ITERATIONS REACHED LIMIT.\n",
            "\n",
            "Increase the number of iterations (max_iter) or scale the data as shown in:\n",
            "    https://scikit-learn.org/stable/modules/preprocessing.html\n",
            "Please also refer to the documentation for alternative solver options:\n",
            "    https://scikit-learn.org/stable/modules/linear_model.html#logistic-regression\n",
            "  n_iter_i = _check_optimize_result(\n",
            "/usr/local/lib/python3.10/dist-packages/sklearn/linear_model/_logistic.py:458: ConvergenceWarning: lbfgs failed to converge (status=1):\n",
            "STOP: TOTAL NO. of ITERATIONS REACHED LIMIT.\n",
            "\n",
            "Increase the number of iterations (max_iter) or scale the data as shown in:\n",
            "    https://scikit-learn.org/stable/modules/preprocessing.html\n",
            "Please also refer to the documentation for alternative solver options:\n",
            "    https://scikit-learn.org/stable/modules/linear_model.html#logistic-regression\n",
            "  n_iter_i = _check_optimize_result(\n",
            "/usr/local/lib/python3.10/dist-packages/sklearn/linear_model/_logistic.py:458: ConvergenceWarning: lbfgs failed to converge (status=1):\n",
            "STOP: TOTAL NO. of ITERATIONS REACHED LIMIT.\n",
            "\n",
            "Increase the number of iterations (max_iter) or scale the data as shown in:\n",
            "    https://scikit-learn.org/stable/modules/preprocessing.html\n",
            "Please also refer to the documentation for alternative solver options:\n",
            "    https://scikit-learn.org/stable/modules/linear_model.html#logistic-regression\n",
            "  n_iter_i = _check_optimize_result(\n"
          ]
        },
        {
          "output_type": "stream",
          "name": "stdout",
          "text": [
            "Model: LogisticRegressionCV\n",
            "Accuracy: 0.7411111111111112\n",
            "\n"
          ]
        },
        {
          "output_type": "stream",
          "name": "stderr",
          "text": [
            "/usr/local/lib/python3.10/dist-packages/sklearn/neural_network/_multilayer_perceptron.py:686: ConvergenceWarning: Stochastic Optimizer: Maximum iterations (200) reached and the optimization hasn't converged yet.\n",
            "  warnings.warn(\n"
          ]
        },
        {
          "output_type": "stream",
          "name": "stdout",
          "text": [
            "Model: MLPClassifier\n",
            "Accuracy: 0.8722222222222222\n",
            "\n",
            "Error evaluating MultiOutputClassifier: MultiOutputClassifier.__init__() missing 1 required positional argument: 'estimator'\n",
            "\n",
            "Error evaluating MultinomialNB: Negative values in data passed to MultinomialNB (input X)\n",
            "\n",
            "Model: NearestCentroid\n",
            "Accuracy: 0.4577777777777778\n",
            "\n",
            "Model: NuSVC\n",
            "Accuracy: 0.7722222222222223\n",
            "\n",
            "Error evaluating OneVsOneClassifier: OneVsOneClassifier.__init__() missing 1 required positional argument: 'estimator'\n",
            "\n",
            "Error evaluating OneVsRestClassifier: OneVsRestClassifier.__init__() missing 1 required positional argument: 'estimator'\n",
            "\n",
            "Error evaluating OutputCodeClassifier: OutputCodeClassifier.__init__() missing 1 required positional argument: 'estimator'\n",
            "\n",
            "Model: PassiveAggressiveClassifier\n",
            "Accuracy: 0.6455555555555555\n",
            "\n",
            "Model: Perceptron\n",
            "Accuracy: 0.5844444444444444\n",
            "\n",
            "Model: QuadraticDiscriminantAnalysis\n",
            "Accuracy: 0.7088888888888889\n",
            "\n"
          ]
        },
        {
          "output_type": "stream",
          "name": "stderr",
          "text": [
            "/usr/local/lib/python3.10/dist-packages/sklearn/discriminant_analysis.py:926: UserWarning: Variables are collinear\n",
            "  warnings.warn(\"Variables are collinear\")\n"
          ]
        },
        {
          "output_type": "stream",
          "name": "stdout",
          "text": [
            "Error evaluating RadiusNeighborsClassifier: No neighbors found for test samples array([ 29,  30,  34,  37,  40,  55,  56,  63,  71,  88,  99, 101, 106,\n",
            "       107, 111, 121, 127, 138, 143, 145, 146, 153, 157, 160, 166, 168,\n",
            "       170, 178, 183, 192, 242, 245, 246, 248, 253, 256, 262, 263, 264,\n",
            "       266, 267, 268, 289, 290, 299, 306, 312, 313, 321, 341, 343, 345,\n",
            "       355, 361, 365, 381, 389, 401, 407, 418, 438, 441, 456, 457, 460,\n",
            "       461, 464, 471, 475, 485, 488, 496, 499, 508, 509, 512, 513, 514,\n",
            "       521, 526, 528, 535, 540, 565, 569, 572, 575, 598, 618, 622, 626,\n",
            "       633, 637, 640, 642, 644, 649, 651, 654, 665, 699, 700, 703, 705,\n",
            "       712, 719, 722, 725, 732, 733, 739, 750, 753, 757, 760, 764, 765,\n",
            "       768, 771, 773, 786, 795, 797, 807, 825, 831, 840, 847, 848, 854,\n",
            "       857, 860, 863, 865, 866, 884, 886, 898]), you can try using larger radius, giving a label for outliers, or considering removing them from your dataset.\n",
            "\n",
            "Model: RandomForestClassifier\n",
            "Accuracy: 0.97\n",
            "\n",
            "Model: RidgeClassifier\n",
            "Accuracy: 0.7144444444444444\n",
            "\n",
            "Model: RidgeClassifierCV\n",
            "Accuracy: 0.7144444444444444\n",
            "\n",
            "Model: SGDClassifier\n",
            "Accuracy: 0.7155555555555555\n",
            "\n",
            "Model: SVC\n",
            "Accuracy: 0.7522222222222222\n",
            "\n",
            "Error evaluating StackingClassifier: StackingClassifier.__init__() missing 1 required positional argument: 'estimators'\n",
            "\n",
            "Error evaluating VotingClassifier: VotingClassifier.__init__() missing 1 required positional argument: 'estimators'\n",
            "\n",
            "Best Model:\n",
            "ExtraTreesClassifier()\n",
            "Final Accuracy: 0.9777777777777777\n"
          ]
        }
      ]
    },
    {
      "cell_type": "code",
      "source": [
        "# Create a Extra Tress classifier and check the accuracy on the given data \n",
        "from sklearn.ensemble import ExtraTreesClassifier\n",
        "from sklearn.metrics import accuracy_score, f1_score\n",
        "# Instantiate and fit the ExtraTreesClassifier\n",
        "model = ExtraTreesClassifier(n_estimators= 100, criterion = 'log_loss', random_state = 0)\n",
        "model.fit(X_train, y_train)\n",
        "\n",
        "# Make predictions on the train set\n",
        "y_pred_train = model.predict(X_train)\n",
        "\n",
        "# Evaluate the model's accuracy on train set\n",
        "accuracy_train = accuracy_score(y_train, y_pred_train)\n",
        "\n",
        "# Make predictions on the test set\n",
        "y_pred = model.predict(X_test)\n",
        "\n",
        "# Evaluate the model's accuracy on test set\n",
        "accuracy_test = accuracy_score(y_test, y_pred)\n",
        "\n"
      ],
      "metadata": {
        "id": "n_UrFKxlmhhJ"
      },
      "execution_count": 33,
      "outputs": []
    },
    {
      "cell_type": "code",
      "source": [
        "# Training accuracy and F1 Score to check the accuracy of model on training set\n",
        "\n",
        "print('Accuracy Score on training set is '+ str(accuracy_train))\n",
        "print('F1 score of Training set is ' + str(f1_score(y_train, y_pred_train, average='macro')))\n",
        "\n",
        "# Training accuracy and F1 Score to check the accuracy of model on testing set\n",
        "\n",
        "print('Accuracy Score on testing set is '+ str(accuracy_test))\n",
        "print('F1 score of Testing set is ' + str(f1_score(y_test, y_pred, average='macro')))"
      ],
      "metadata": {
        "colab": {
          "base_uri": "https://localhost:8080/"
        },
        "id": "Wk5pzWlY98HD",
        "outputId": "82b97be5-9148-4d9e-afff-9e1e606cf14c"
      },
      "execution_count": 34,
      "outputs": [
        {
          "output_type": "stream",
          "name": "stdout",
          "text": [
            "Accuracy Score on training set is 1.0\n",
            "F1 score of Training set is 1.0\n",
            "Accuracy Score on testing set is 0.98\n",
            "F1 score of Testing set is 0.9737630092179601\n"
          ]
        }
      ]
    },
    {
      "cell_type": "code",
      "source": [
        "# Creating confusion matrix\n",
        "from sklearn.metrics import confusion_matrix, ConfusionMatrixDisplay\n",
        "cm = confusion_matrix(y_test, y_pred)\n",
        "disp = ConfusionMatrixDisplay(confusion_matrix=cm, display_labels=[0, 1, 2])\n",
        "disp.plot()\n",
        "plt.show()\n",
        "\n"
      ],
      "metadata": {
        "colab": {
          "base_uri": "https://localhost:8080/",
          "height": 449
        },
        "id": "G5oqLA4kAtnd",
        "outputId": "b12c145a-e0a7-4171-e47b-2153f1d16680"
      },
      "execution_count": 35,
      "outputs": [
        {
          "output_type": "display_data",
          "data": {
            "text/plain": [
              "<Figure size 640x480 with 2 Axes>"
            ],
            "image/png": "[encoded data removed]"
          },
          "metadata": {}
        }
      ]
    },
    {
      "cell_type": "code",
      "source": [
        "# (Test Model1)Few more models to check the performance(GradientBoostingClassifier)\n",
        "from sklearn.ensemble import GradientBoostingClassifier\n",
        "# Instantiate and fit the GradientBoostingClassifier\n",
        "model1 = GradientBoostingClassifier()\n",
        "model1.fit(X_train, y_train)\n",
        "\n",
        "# Make predictions on the test set\n",
        "y_pred = model1.predict(X_test)\n",
        "\n",
        "# Evaluate the model's accuracy\n",
        "accuracy = accuracy_score(y_test, y_pred)\n",
        "\n",
        "# Print the accuracy\n",
        "print(f\"Accuracy: {accuracy}\")"
      ],
      "metadata": {
        "id": "G8nGprjnpMti",
        "colab": {
          "base_uri": "https://localhost:8080/"
        },
        "outputId": "3842955f-67e7-4025-e532-c90356b50017"
      },
      "execution_count": 37,
      "outputs": [
        {
          "output_type": "stream",
          "name": "stdout",
          "text": [
            "Accuracy: 0.8755555555555555\n"
          ]
        }
      ]
    },
    {
      "cell_type": "code",
      "source": [
        "#(Test Model 2)Few more models to check the performance(BaggingClassifier)\n",
        "from sklearn.ensemble import BaggingClassifier\n",
        "# Instantiate and fit the BaggingClassifier\n",
        "model2 = BaggingClassifier()\n",
        "model2.fit(X_train, y_train)\n",
        "\n",
        "# Make predictions on the test set\n",
        "y_pred = model2.predict(X_test)\n",
        "\n",
        "# Evaluate the model's accuracy\n",
        "accuracy = accuracy_score(y_test, y_pred)\n",
        "\n",
        "# Print the accuracy\n",
        "print(f\"Accuracy: {accuracy}\")"
      ],
      "metadata": {
        "id": "BX348IU3rSnS",
        "colab": {
          "base_uri": "https://localhost:8080/"
        },
        "outputId": "f385faed-1835-4b1f-a989-d907bba62ad2"
      },
      "execution_count": 38,
      "outputs": [
        {
          "output_type": "stream",
          "name": "stdout",
          "text": [
            "Accuracy: 0.9488888888888889\n"
          ]
        }
      ]
    },
    {
      "cell_type": "code",
      "source": [
        "#Using the model with Highest accuracy(Extra Tress Classifier) To predict on testing data \n",
        "new_data = pd.read_csv('TestingDataMulti.csv',header=None)\n",
        "new_data1 = new_data.iloc[:, :-12].values\n",
        "new_data1 = sc.transform(new_data1)\n",
        "print(new_data1)\n",
        "predictions = model.predict(new_data1)\n",
        "print(predictions)\n",
        "new_data['predictions'] = predictions\n",
        "new_data.to_csv('TestingResultsMulti.csv', index=False, header=False)\n"
      ],
      "metadata": {
        "colab": {
          "base_uri": "https://localhost:8080/"
        },
        "id": "cGa2BoAY9_IQ",
        "outputId": "47e36274-eadc-4aa5-f947-b4d25a0af9a4"
      },
      "execution_count": 36,
      "outputs": [
        {
          "output_type": "stream",
          "name": "stdout",
          "text": [
            "[[-0.84609633  0.20689063  1.35744778 ...  1.2139314  -1.29957348\n",
            "   0.        ]\n",
            " [-0.84734257  0.20096042  1.35605769 ...  1.06676522 -1.11484323\n",
            "   0.        ]\n",
            " [-0.84768246  0.20689063  1.35584384 ...  1.04191643 -1.10573166\n",
            "   0.        ]\n",
            " ...\n",
            " [ 1.91019802 -0.05996842  0.59963648 ... -0.30959117  0.31920876\n",
            "   0.        ]\n",
            " [ 1.91002808 -0.05996842  0.59942262 ... -0.30849135  0.31413127\n",
            "   0.        ]\n",
            " [ 1.90997143 -0.05403821  0.59936915 ... -0.30765541  0.31526772\n",
            "   0.        ]]\n",
            "[2 2 2 2 2 2 1 1 1 1 1 1 1 1 1 1 2 1 1 1 1 2 2 2 2 2 2 2 2 2 2 2 2 1 1 1 1\n",
            " 1 2 1 1 1 2 2 2 2 2 2 2 1 1 1 1 1 2 2 2 1 1 1 1 1 1 1 1 1 0 0 0 0 0 0 0 0\n",
            " 0 0 0 0 0 0 0 0 0 0 1 1 1 1 1 1 1 0 0 0 0 0 0 0 0 0]\n"
          ]
        }
      ]
    }
  ]
}